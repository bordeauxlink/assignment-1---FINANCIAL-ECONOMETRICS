{
 "cells": [
  {
   "cell_type": "markdown",
   "metadata": {},
   "source": [
    "##  **Problem 1 [10 Pts]**\n",
    "This question tests your ability to follow instructions. If you follow the instructions for this assignment, you will receive full credit for this question. \n",
    "a. List the names of your group [2 pts] \n",
    "b. Type your answers (meaning you did not submit your assignment written by hand) [2 pts] \n",
    "c. Format your assignment in the form of a write-up, not simply code that you submit (including proper formatting and labelling of tables and graphs) [2 pts] \n",
    "d. Provide the supporting Python code for your answers [2 pt] e. Your Python code actually works on its own and provides the answers that you submitted in your write-up [2 pts]"
   ]
  },
  {
   "cell_type": "markdown",
   "metadata": {},
   "source": [
    "Group members: Ge Aaron, Weng Danni , Sun Haotong"
   ]
  },
  {
   "cell_type": "markdown",
   "metadata": {},
   "source": [
    "## **Problem 3 [35 Pts], Simulations** \n",
    "For this question, in order to get credit, you will need to 1) write the functions and 2) interpret the results obtained from the functions you wrote. Make sure to provide context for your interpretation of the result: meaning just writing “I got an answer of 1.21029” will not get you any credit for your interpretation. You need to tell me what the result means in the context of what we discuss in this course. "
   ]
  },
  {
   "cell_type": "markdown",
   "metadata": {},
   "source": [
    "a. Write a function that accepts [10 pts]: • an object of type BitGenerator, BG • a positive integer degrees and returns • a 1-D array of 200 i.i.d. draws from a studentt distribution with degrees degrees of freedom. Do not seed the BitGenerator in your function. "
   ]
  },
  {
   "cell_type": "code",
   "execution_count": 1,
   "metadata": {},
   "outputs": [
    {
     "name": "stdout",
     "output_type": "stream",
     "text": [
      "[ 4.15980584e+00  1.08538869e+00 -9.14643902e-01  1.39354733e-01\n",
      "  1.64568047e+00  1.45070392e+00  7.10948872e-01 -1.00228611e+00\n",
      " -6.03351064e-01  1.81256592e+00 -9.40078342e-01  1.71385987e+00\n",
      "  5.32974558e-01 -9.23679210e-01 -1.24558726e+00  1.03895535e+00\n",
      " -6.89299725e-01  3.64566386e-02  4.70082448e-01  6.15315735e-01\n",
      "  7.68918095e-01  3.14271978e+00  3.80881811e-02 -1.44047752e-02\n",
      " -5.13115184e-03 -9.77114252e-01 -3.23333108e-01  8.06685203e-01\n",
      " -4.17357292e-01 -4.41620994e-01 -3.29175314e-01  1.10558120e+00\n",
      " -1.07006223e+00  4.79277200e-01 -1.72190937e-01  1.48630316e-01\n",
      " -3.05942538e+00 -9.86788373e-01  3.30120847e-02 -4.74399211e-01\n",
      " -1.01373528e+00 -5.44859338e-02  3.59244518e-01  3.76654901e+00\n",
      " -5.47261653e-01 -1.34133224e+00  1.51201349e+00 -1.30608596e+00\n",
      " -6.96488035e-01  3.77477215e-02  3.53005680e-01  9.14609541e-01\n",
      "  1.72133688e+00  1.08542771e+00  3.29848870e+00 -6.28104634e-01\n",
      " -1.01820767e-01 -9.27168280e-01  1.41059706e+00  4.94671015e-01\n",
      " -7.48568864e-01  1.39940256e-01  2.02891648e-01 -5.83774936e-01\n",
      " -1.41890073e+00 -3.52032282e-01  7.65889567e-01  1.42308189e+00\n",
      " -5.87018789e-01 -4.08873687e-02 -1.86732091e-01 -1.13697293e+00\n",
      " -2.27846874e-01  2.85151652e+00 -1.58306389e+00 -1.09401558e+00\n",
      "  4.09361615e-01  3.78588826e-01 -2.83947843e-01  2.28674407e-01\n",
      " -2.79016455e-01 -2.82499845e-01  6.59593065e-01  1.53148002e+00\n",
      "  9.94105648e-02  2.43947434e+00 -1.14453941e+00 -6.44643607e-01\n",
      "  1.54135064e+00  1.28204462e+00  1.39549093e+00 -4.38414199e-01\n",
      "  8.68239736e-01 -6.90081867e-01  3.85567219e+00  4.79437530e-01\n",
      " -6.03090831e-03  1.58137441e+00  1.78208031e-01  1.19561338e+00\n",
      "  1.25038869e+00  1.04718224e+00 -9.43120135e-01 -8.79357951e-01\n",
      "  4.21668942e-01  1.25098517e+00 -1.35040802e+00  2.11214891e+00\n",
      " -5.04503170e-01 -7.96463418e-01  2.73959086e-01 -8.26894514e-01\n",
      "  8.20276425e-01  1.66251079e-01 -2.02254667e-01  4.52235032e-01\n",
      " -4.77528559e-01 -4.94676330e-01  1.32327214e+00 -1.73184434e+00\n",
      "  8.48216047e-01 -5.05300625e+00 -2.94906474e-03 -8.34985896e-02\n",
      " -1.66098381e+00  1.93394214e+00  8.16614468e-01  2.26501423e+00\n",
      "  9.34987340e-01 -1.05740084e+00 -9.61785196e-01  6.95124690e-01\n",
      " -6.70454741e-01 -3.62155000e-01  3.93013820e-01 -9.96335042e-01\n",
      "  1.13591131e+00 -7.75144747e-01  2.46738535e-01  4.31710414e-01\n",
      "  1.59309790e+00 -5.71616708e-01  1.52073306e+00 -1.62326137e+00\n",
      " -8.68618628e-01 -1.89693117e+00  4.33604643e-01  1.80236957e+00\n",
      " -8.50186771e-01  2.57051459e-01 -1.99385810e+00  1.12095370e-01\n",
      "  4.95090440e-01  2.95352568e-01  4.93436428e-01 -6.09912885e-01\n",
      "  2.74214802e-01  8.26453445e-01 -1.63115701e+00  7.32547171e-01\n",
      " -1.25895534e-03  1.89074103e+00  6.43498483e-01 -3.83851587e-01\n",
      "  1.83933661e+00  1.84602304e+00  4.12391864e+00  1.78272955e-01\n",
      "  2.00109089e-01 -5.65355448e-01 -8.69252329e-01 -6.33008959e-01\n",
      "  1.92613490e+00 -5.64631059e-01  2.00465285e+00  1.01172427e+00\n",
      " -6.53665656e-01 -1.44438521e-01 -2.50246033e-01  1.85487602e+00\n",
      " -7.56576863e-01 -2.00435602e-01 -2.87937551e-01 -1.60753710e+00\n",
      "  5.23397476e-02  3.20095364e-01  5.10459422e-01  8.48409536e-01\n",
      "  6.00125236e-01 -9.63111688e-01 -9.56676894e-01  1.28719755e+00\n",
      " -1.90305855e+00 -1.94116931e+00  9.84749062e-01  1.82108333e+00\n",
      " -1.74299434e+00 -3.77313904e-02  2.56107416e+00  1.25307403e+00]\n"
     ]
    }
   ],
   "source": [
    "from numpy.random import Generator, PCG64\n",
    "def draw_samples_a(BG, degrees):\n",
    "    # Create a random number generator using the provided BitGenerator\n",
    "    rng = Generator(BG)\n",
    "\n",
    "    # Generate 200 i.i.d. draws from a Student's t-distribution with the specified degrees of freedom\n",
    "    samples = rng.standard_t(df=degrees, size=200)\n",
    "\n",
    "    return samples\n",
    "\n",
    "\n",
    "# Example usage:\n",
    "bg = PCG64()  # Create a BitGenerator instance\n",
    "draws = draw_samples_a(\n",
    "    bg, 6\n",
    ")  # Generate 200 i.i.d. draws from a t-distribution with 10 degrees of freedom\n",
    "print(draws)  # Print the generated samples"
   ]
  },
  {
   "cell_type": "markdown",
   "metadata": {},
   "source": [
    "b. Write a function that accepts [5 pts]: \n",
    "• a BitGenerator bg • a 1-D array, a • a boolean, r and returns • a 1-D array of the same size as a that contains values randomly drawn from a • those values are randomly drawn with replacement if replace = T rue and otherwise are drawn without replacement (i.e. they are “shuffled.”) "
   ]
  },
  {
   "cell_type": "code",
   "execution_count": 4,
   "metadata": {},
   "outputs": [
    {
     "name": "stdout",
     "output_type": "stream",
     "text": [
      "[ 6  3  9  1 10  2  5  7  4  8]\n",
      "[ 1 10  8  3  5  3  7  3  6 10]\n"
     ]
    }
   ],
   "source": [
    "# b)\n",
    "import numpy as np\n",
    "import scipy.stats as stats\n",
    "import matplotlib.pyplot as plt\n",
    "def draw_values_b(bg, a, r):\n",
    "    # Create a random number generator using the provided BitGenerator\n",
    "    rngb = Generator(bg)\n",
    "\n",
    "    # Generate a 1-D array of values randomly drawn from a\n",
    "    # If replace is True, values are drawn with replacement\n",
    "    # If replace is False, values are drawn without replacement\n",
    "    drawn_values_b = rngb.choice(a, size=a.shape[0], replace=r)\n",
    "\n",
    "    return drawn_values_b\n",
    "\n",
    "\n",
    "# Example usage:\n",
    "bg = PCG64()\n",
    "a = np.array([1, 2, 3, 4, 5, 6, 7, 8, 9, 10])\n",
    "drawn_values_b_t = draw_values_b(bg, a, True)\n",
    "drawn_values_b_f = draw_values_b(bg, a, False)\n",
    "print(drawn_values_b_f)  # Print the generated samples\n",
    "print(drawn_values_b_t)  # Print the generated samples\n"
   ]
  },
  {
   "cell_type": "markdown",
   "metadata": {},
   "source": [
    "c. Write a function that accepts a 1-D array s and produces a probability plot comparing its values to a N (0, 1) distribution. [5 pts] "
   ]
  },
  {
   "cell_type": "code",
   "execution_count": 5,
   "metadata": {},
   "outputs": [
    {
     "data": {
      "image/png": "[encoded data removed]",
      "text/plain": [
       "<Figure size 640x480 with 1 Axes>"
      ]
     },
     "metadata": {},
     "output_type": "display_data"
    }
   ],
   "source": [
    "# c)\n",
    "import numpy as np\n",
    "import scipy.stats as stats\n",
    "import matplotlib.pyplot as plt\n",
    "\n",
    "\n",
    "def probability_plot(s):\n",
    "    # Generate a probability plot\n",
    "    stats.probplot(s, dist=\"norm\", plot=plt)\n",
    "\n",
    "    # Set the title and labels\n",
    "    plt.title(\"Probability  plot comparing its values to a N(0,1) distribution\")\n",
    "    plt.xlabel(\"quantiles\")\n",
    "    plt.ylabel(\"Values\")\n",
    "\n",
    "    # Show the plot\n",
    "    plt.show()\n",
    "\n",
    "\n",
    "# Example usage:\n",
    "s = np.random.normal(\n",
    "    0, 1, 2000\n",
    ")  \n",
    "probability_plot(s)  "
   ]
  },
  {
   "cell_type": "markdown",
   "metadata": {},
   "source": [
    "d. Write a function that accepts [5 pts]: • a BitGenerator bg • a 1-D array of real values a • a positive integer T and then • bootstraps (samples with replacement) from a • calculates the Kolmogorov-Smirnov test statistic for the H0 that the bootstrapped values follow a N (0, 1) distribution • repeats the above two steps T times. The function then returns• p a real value scalar 0 ≤ p ≤ 1, the fraction of the T simulations where we reject H0 at the 5% significance level. SUGGESTION: You could use Q2 Sample() to do the bootstrapping "
   ]
  },
  {
   "cell_type": "code",
   "execution_count": 6,
   "metadata": {},
   "outputs": [
    {
     "name": "stdout",
     "output_type": "stream",
     "text": [
      "0.218\n"
     ]
    }
   ],
   "source": [
    "# d)\n",
    "\n",
    "from numpy.random import Generator, PCG64\n",
    "import scipy.stats as stats\n",
    "\n",
    "def bootstrap_test(bg, a, T):\n",
    "\n",
    "    rng_d = Generator(bg)\n",
    "    \n",
    "    # Initialize the count of rejections\n",
    "    rejections = 0\n",
    "    \n",
    "    # Repeat the bootstrap procedure and the Kolmogorov-Smirnov test T times\n",
    "    for _ in range(T):\n",
    "        # Bootstrap from a\n",
    "        bootstrapped_values = rng_d.choice(a, size=a.shape[0], replace=True)\n",
    "        \n",
    "        # Calculate the Kolmogorov-Smirnov test statistic\n",
    "        D, p = stats.kstest(bootstrapped_values, 'norm')\n",
    "        \n",
    "        # If the p-value is less than 0.05, reject H0\n",
    "        if p < 0.05:\n",
    "            rejections += 1\n",
    "    \n",
    "    # Calculate the fraction of the T simulations where we reject H0 at the 5% significance level\n",
    "    p = rejections / T\n",
    "    \n",
    "    return p\n",
    "\n",
    "# Example usage:\n",
    "bg = PCG64()  \n",
    "a = np.random.normal(0, 1, 2000)  \n",
    "T = 1000  \n",
    "p = bootstrap_test(bg, a, T)  \n",
    "print(p)"
   ]
  }
 ],
 "metadata": {
  "kernelspec": {
   "display_name": "Python 3",
   "language": "python",
   "name": "python3"
  },
  "language_info": {
   "codemirror_mode": {
    "name": "ipython",
    "version": 3
   },
   "file_extension": ".py",
   "mimetype": "text/x-python",
   "name": "python",
   "nbconvert_exporter": "python",
   "pygments_lexer": "ipython3",
   "version": "3.10.7"
  }
 },
 "nbformat": 4,
 "nbformat_minor": 2
}
